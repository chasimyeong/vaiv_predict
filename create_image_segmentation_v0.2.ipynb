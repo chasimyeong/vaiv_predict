{
 "cells": [
  {
   "cell_type": "code",
   "execution_count": 1,
   "metadata": {},
   "outputs": [],
   "source": [
    "import warnings\n",
    "\n",
    "import numpy as np\n",
    "import pandas as pd\n",
    "\n",
    "import matplotlib\n",
    "import skimage\n",
    "\n",
    "import sys\n",
    "import os\n",
    "\n",
    "warnings.filterwarnings('ignore')"
   ]
  },
  {
   "cell_type": "code",
   "execution_count": 1,
   "metadata": {},
   "outputs": [
    {
     "data": {
      "text/plain": [
       "'4.3.0'"
      ]
     },
     "execution_count": 1,
     "metadata": {},
     "output_type": "execute_result"
    }
   ],
   "source": [
    "import cv2\n",
    "cv2.__version__"
   ]
  },
  {
   "cell_type": "code",
   "execution_count": 3,
   "metadata": {},
   "outputs": [
    {
     "name": "stdout",
     "output_type": "stream",
     "text": [
      "base orginal path: C:\\Users\\daumsoft\\Jupyter Notebook\\daumsoft\\LH Digital Twin Develop\\딥러닝_통합_API\\Dpredict\\images\\revised_image\\shielding\\original_gt\n",
      "base revised path: C:\\Users\\daumsoft\\Jupyter Notebook\\daumsoft\\LH Digital Twin Develop\\딥러닝_통합_API\\Dpredict\\images\\revised_image\\shielding\\segmentation_gt\n"
     ]
    }
   ],
   "source": [
    "ROOT_DIR = os.path.abspath('./images/revised_image/')\n",
    "\n",
    "object_path = os.path.join(ROOT_DIR, 'shielding')\n",
    "\n",
    "orgin_path = os.path.join(object_path, 'original_gt')\n",
    "seg_path = os.path.join(object_path, 'segmentation_gt')\n",
    "\n",
    "print(\"base orginal path:\", orgin_path)\n",
    "print(\"base revised path:\", seg_path)"
   ]
  },
  {
   "cell_type": "code",
   "execution_count": 4,
   "metadata": {},
   "outputs": [],
   "source": [
    "img_list = os.listdir(orgin_path)"
   ]
  },
  {
   "cell_type": "code",
   "execution_count": 5,
   "metadata": {},
   "outputs": [
    {
     "name": "stdout",
     "output_type": "stream",
     "text": [
      "Wall time: 1.09 s\n"
     ]
    }
   ],
   "source": [
    "%%time\n",
    "import cv2\n",
    "\n",
    "from PIL import Image\n",
    "\n",
    "for f in img_list:\n",
    "    img = Image.open(os.path.join(orgin_path, f)).convert('L')\n",
    "    copy_img = img.copy()\n",
    "    input_arr = np.array(copy_img).reshape((img.size[1], img.size[0]))\n",
    "    \n",
    "    _, input_arr = cv2.threshold(input_arr, 127, 255, cv2.THRESH_BINARY)\n",
    "    cv2.floodFill(input_arr, None, (0,img.size[1]-1), 255)       \n",
    "    \n",
    "    invert_img = Image.fromarray(input_arr)\n",
    "\n",
    "    save_path = os.path.join(seg_path, f)\n",
    "    invert_img.save(save_path)"
   ]
  },
  {
   "cell_type": "code",
   "execution_count": 6,
   "metadata": {
    "scrolled": true
   },
   "outputs": [
    {
     "data": {
      "image/png": "[encoded data removed]",
      "text/plain": [
       "<PIL.Image.Image image mode=L size=640x480 at 0x21A60DDDC40>"
      ]
     },
     "execution_count": 6,
     "metadata": {},
     "output_type": "execute_result"
    }
   ],
   "source": [
    "Image.fromarray(input_arr)"
   ]
  },
  {
   "cell_type": "code",
   "execution_count": null,
   "metadata": {},
   "outputs": [],
   "source": []
  }
 ],
 "metadata": {
  "kernelspec": {
   "display_name": "tensorflow2.x",
   "language": "python",
   "name": "tensorflow2.x"
  },
  "language_info": {
   "codemirror_mode": {
    "name": "ipython",
    "version": 3
   },
   "file_extension": ".py",
   "mimetype": "text/x-python",
   "name": "python",
   "nbconvert_exporter": "python",
   "pygments_lexer": "ipython3",
   "version": "3.8.3"
  }
 },
 "nbformat": 4,
 "nbformat_minor": 4
}
