{
 "cells": [
  {
   "cell_type": "markdown",
   "metadata": {},
   "source": [
    "# Check Library Version"
   ]
  },
  {
   "cell_type": "code",
   "execution_count": 1,
   "metadata": {},
   "outputs": [
    {
     "name": "stdout",
     "output_type": "stream",
     "text": [
      "python : 3.8.3 (default, Jul  2 2020, 17:30:36) [MSC v.1916 64 bit (AMD64)]\n",
      "\n",
      "numpy : 1.18.5\n",
      "\n",
      "opencv : 4.3.0\n",
      "\n",
      "keras : 2.4.3\n",
      "tf : 2.2.0\n"
     ]
    }
   ],
   "source": [
    "import warnings\n",
    "import os\n",
    "import sys\n",
    "\n",
    "import numpy as np\n",
    "\n",
    "import cv2\n",
    "\n",
    "import keras\n",
    "import tensorflow as tf\n",
    "\n",
    "warnings.filterwarnings('ignore')\n",
    "\n",
    "print('python :', sys.version)\n",
    "print('')\n",
    "\n",
    "print('numpy :', np.__version__)\n",
    "print('')\n",
    "\n",
    "print('opencv :', cv2.__version__)\n",
    "print('')\n",
    "\n",
    "print('keras :', keras.__version__)\n",
    "print('tf :', tf.__version__)"
   ]
  },
  {
   "cell_type": "code",
   "execution_count": 2,
   "metadata": {},
   "outputs": [
    {
     "data": {
      "text/plain": [
       "[name: \"/device:CPU:0\"\n",
       " device_type: \"CPU\"\n",
       " memory_limit: 268435456\n",
       " locality {\n",
       " }\n",
       " incarnation: 10802083722986574697,\n",
       " name: \"/device:XLA_CPU:0\"\n",
       " device_type: \"XLA_CPU\"\n",
       " memory_limit: 17179869184\n",
       " locality {\n",
       " }\n",
       " incarnation: 15652334351561540377\n",
       " physical_device_desc: \"device: XLA_CPU device\",\n",
       " name: \"/device:GPU:0\"\n",
       " device_type: \"GPU\"\n",
       " memory_limit: 3133590732\n",
       " locality {\n",
       "   bus_id: 1\n",
       "   links {\n",
       "   }\n",
       " }\n",
       " incarnation: 3767871841261799080\n",
       " physical_device_desc: \"device: 0, name: GeForce GTX 1050 Ti, pci bus id: 0000:01:00.0, compute capability: 6.1\",\n",
       " name: \"/device:XLA_GPU:0\"\n",
       " device_type: \"XLA_GPU\"\n",
       " memory_limit: 17179869184\n",
       " locality {\n",
       " }\n",
       " incarnation: 12830388194852940591\n",
       " physical_device_desc: \"device: XLA_GPU device\"]"
      ]
     },
     "execution_count": 2,
     "metadata": {},
     "output_type": "execute_result"
    }
   ],
   "source": [
    "from tensorflow.python.client import device_lib\n",
    "device_lib.list_local_devices()"
   ]
  },
  {
   "cell_type": "code",
   "execution_count": 3,
   "metadata": {},
   "outputs": [
    {
     "name": "stdout",
     "output_type": "stream",
     "text": [
      "base models path : C:\\Users\\daumsoft\\Jupyter Notebook\\daumsoft\\LH Digital Twin Develop\\스카이라인\\Skyline-Detection-beta\\models\n"
     ]
    }
   ],
   "source": [
    "ROOT_DIR = os.path.abspath('./')\n",
    "models_path = os.path.join(ROOT_DIR, 'models')\n",
    "weights_path = os.path.join(models_path, 'weights')\n",
    "\n",
    "best_model_file = os.path.join(models_path, 'model.json')\n",
    "best_weight_file = os.path.join(weights_path, 'best_weight.hdf5')\n",
    "\n",
    "print(\"base models path :\", models_path)"
   ]
  },
  {
   "cell_type": "code",
   "execution_count": 4,
   "metadata": {},
   "outputs": [],
   "source": [
    "if not os.path.isdir(models_path):\n",
    "    os.makedirs(models_path)\n",
    "if not os.path.isdir(weights_path):\n",
    "    os.makedirs(weights_path)"
   ]
  },
  {
   "cell_type": "markdown",
   "metadata": {},
   "source": [
    "# Load Model"
   ]
  },
  {
   "cell_type": "code",
   "execution_count": 5,
   "metadata": {},
   "outputs": [],
   "source": [
    "from keras.models import model_from_json \n",
    "from keras.optimizers import Adam\n",
    "import keras.backend as K\n",
    "\n",
    "K.clear_session()\n",
    "K.set_image_data_format('channels_last')\n",
    "K.set_floatx('float64')\n",
    "\n",
    "json_file = open(best_model_file, \"r\")\n",
    "loaded_model_json = json_file.read() \n",
    "json_file.close()\n",
    "\n",
    "unet = model_from_json(loaded_model_json)\n",
    "unet.load_weights(best_weight_file)\n",
    "\n",
    "unet.compile(optimizer=Adam(lr=1e-4), loss='binary_crossentropy', metrics = ['mse', 'mae'])"
   ]
  },
  {
   "cell_type": "markdown",
   "metadata": {},
   "source": [
    "# Predict Train Image"
   ]
  },
  {
   "cell_type": "code",
   "execution_count": 1,
   "metadata": {},
   "outputs": [],
   "source": [
    "from flask import Flask, request, jsonify\n",
    "from PIL import Image, ImageDraw\n",
    "import json\n",
    "import base64\n",
    "from io import BytesIO\n",
    "\n",
    "app = Flask (__name__)\n",
    " \n",
    "def img_prediction(file_img):\n",
    "    img = Image.open(file_img)\n",
    "    \n",
    "    input_arr = np.array(img.resize((256, 256)))/255\n",
    "    input_arr = input_arr.reshape((1, ) + input_arr.shape)\n",
    "    \n",
    "    predictions = unet.predict(input_arr)\n",
    "    predictions = np.array(np.round(predictions[0] * 255, 0), dtype = 'int')\n",
    "    return img, predictions\n",
    "\n",
    "def clear_img(img, threshold= 40):\n",
    "    '''\n",
    "    img는 array\n",
    "    '''\n",
    "    clear = np.where(img < threshold, 0, img)\n",
    "    clear = np.where(clear > 0, 255, clear)\n",
    "    \n",
    "    return clear\n",
    "\n",
    "def y_ridge(img):\n",
    "    cols = img.shape[1]\n",
    "    rows = img.shape[0]\n",
    "\n",
    "    ridge = []\n",
    "\n",
    "    for c in range(cols):\n",
    "        for r in range(rows):\n",
    "            row = img[r][c]\n",
    "            if row > 0:\n",
    "                ridge.append([c, r])\n",
    "                break\n",
    "\n",
    "    ridge_array = np.array(ridge)\n",
    "    \n",
    "    return ridge_array\n",
    "\n",
    "def draw_skyline(img, ridge):\n",
    "    \n",
    "    ridge = ridge.astype(np.int32)\n",
    "    \n",
    "    polyline_img = cv2.polylines(img, [ridge], False, (255, 0, 0))\n",
    "    \n",
    "    return polyline_img\n",
    "\n",
    "@app.route('/skylinePredict', methods = ['POST'])\n",
    "def predict():\n",
    "    if request.method == 'POST':\n",
    "        \n",
    "        files = request.files\n",
    "        \n",
    "        img = files['image']\n",
    "        form = files['format']\n",
    "        \n",
    "        input_img, prediction = img_prediction(img)\n",
    "        \n",
    "        clear_pred = clear_img(prediction)\n",
    "        ridge = y_ridge(clear_pred)\n",
    "        \n",
    "        resize_img = np.array(input_img.resize((256,256)), np.uint8)\n",
    "        output_img = draw_skyline(resize_img, ridge)\n",
    "        \n",
    "        if form == 'total_array':\n",
    "            output = output_img.tolist()\n",
    "        elif form == 'total_base64':\n",
    "            rawBytes = BytesIO()\n",
    "            img_buffer = Image.fromarray(output_img.astype('uint8'))\n",
    "            img_buffer.save(rawBytes, 'PNG')\n",
    "            rawBytes.seek(0)\n",
    "            base64_img = base64.b64encode(rawBytes.read())\n",
    "            output = str(base64_img)\n",
    "        else :\n",
    "            print('format을 입력해주세요. 현재 지원 format parameter는 total_array, total_base64입니다.')\n",
    "            \n",
    "#        img_result는 output image를 원래의 사이즈로 다시 키우는 것, 화질이 너무 깨져서 다른 방법 생각해야함        \n",
    "#        img_result = cv2.resize(output_img, dsize = (input_img.size[0], input_img.size[1]), interpolation=cv2.INTER_CUBIC)\n",
    "         \n",
    "        \n",
    "    return jsonify({'output_img' : output})"
   ]
  },
  {
   "cell_type": "code",
   "execution_count": 7,
   "metadata": {},
   "outputs": [
    {
     "name": "stdout",
     "output_type": "stream",
     "text": [
      " * Serving Flask app \"__main__\" (lazy loading)\n",
      " * Environment: production\n",
      "   WARNING: This is a development server. Do not use it in a production deployment.\n",
      "   Use a production WSGI server instead.\n",
      " * Debug mode: off\n"
     ]
    },
    {
     "name": "stderr",
     "output_type": "stream",
     "text": [
      " * Running on http://127.0.0.1:5000/ (Press CTRL+C to quit)\n",
      "127.0.0.1 - - [23/Jul/2020 11:25:21] \"\u001b[37mPOST /skylinePredict HTTP/1.1\u001b[0m\" 200 -\n",
      "127.0.0.1 - - [23/Jul/2020 11:25:26] \"\u001b[37mPOST /skylinePredict HTTP/1.1\u001b[0m\" 200 -\n",
      "127.0.0.1 - - [23/Jul/2020 11:25:34] \"\u001b[37mPOST /skylinePredict HTTP/1.1\u001b[0m\" 200 -\n",
      "127.0.0.1 - - [23/Jul/2020 11:25:39] \"\u001b[37mPOST /skylinePredict HTTP/1.1\u001b[0m\" 200 -\n",
      "127.0.0.1 - - [23/Jul/2020 11:25:43] \"\u001b[37mPOST /skylinePredict HTTP/1.1\u001b[0m\" 200 -\n",
      "127.0.0.1 - - [23/Jul/2020 11:25:50] \"\u001b[37mPOST /skylinePredict HTTP/1.1\u001b[0m\" 200 -\n",
      "127.0.0.1 - - [23/Jul/2020 11:25:53] \"\u001b[37mPOST /skylinePredict HTTP/1.1\u001b[0m\" 200 -\n"
     ]
    }
   ],
   "source": [
    "if __name__ == \"__main__\":\n",
    "    app.run()"
   ]
  },
  {
   "cell_type": "code",
   "execution_count": null,
   "metadata": {},
   "outputs": [],
   "source": []
  }
 ],
 "metadata": {
  "kernelspec": {
   "display_name": "tensorflow2.x",
   "language": "python",
   "name": "tensorflow2.x"
  },
  "language_info": {
   "codemirror_mode": {
    "name": "ipython",
    "version": 3
   },
   "file_extension": ".py",
   "mimetype": "text/x-python",
   "name": "python",
   "nbconvert_exporter": "python",
   "pygments_lexer": "ipython3",
   "version": "3.8.3"
  }
 },
 "nbformat": 4,
 "nbformat_minor": 4
}
