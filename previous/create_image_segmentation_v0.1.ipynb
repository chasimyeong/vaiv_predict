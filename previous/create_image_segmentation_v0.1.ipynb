{
 "cells": [
  {
   "cell_type": "code",
   "execution_count": 1,
   "metadata": {},
   "outputs": [],
   "source": [
    "import warnings\n",
    "\n",
    "import numpy as np\n",
    "import pandas as pd\n",
    "\n",
    "import matplotlib\n",
    "import skimage\n",
    "\n",
    "import sys\n",
    "import os\n",
    "\n",
    "warnings.filterwarnings('ignore')"
   ]
  },
  {
   "cell_type": "code",
   "execution_count": 5,
   "metadata": {},
   "outputs": [
    {
     "name": "stdout",
     "output_type": "stream",
     "text": [
      "base orginal path: C:\\Users\\daumsoft\\Jupyter Notebook\\daumsoft\\LH Digital Twin Develop\\딥러닝_통합_API\\Dpredict\\images\\revised_image\\skyline\\original_gt\n",
      "base revised path: C:\\Users\\daumsoft\\Jupyter Notebook\\daumsoft\\LH Digital Twin Develop\\딥러닝_통합_API\\Dpredict\\images\\revised_image\\skyline\\segmentation_gt\n"
     ]
    }
   ],
   "source": [
    "ROOT_DIR = os.path.abspath('./images/revised_image/')\n",
    "\n",
    "object_path = os.path.join(ROOT_DIR, 'skyline')\n",
    "\n",
    "orgin_path = os.path.join(object_path, 'original_gt')\n",
    "seg_path = os.path.join(object_path, 'segmentation_gt')\n",
    "\n",
    "print(\"base orginal path:\", orgin_path)\n",
    "print(\"base revised path:\", seg_path)"
   ]
  },
  {
   "cell_type": "code",
   "execution_count": 6,
   "metadata": {},
   "outputs": [],
   "source": [
    "img_list = os.listdir(orgin_path)"
   ]
  },
  {
   "cell_type": "code",
   "execution_count": 8,
   "metadata": {},
   "outputs": [
    {
     "data": {
      "text/plain": [
       "199"
      ]
     },
     "execution_count": 8,
     "metadata": {},
     "output_type": "execute_result"
    }
   ],
   "source": [
    "len(img_list)"
   ]
  },
  {
   "cell_type": "code",
   "execution_count": 14,
   "metadata": {},
   "outputs": [
    {
     "data": {
      "text/plain": [
       "(400, 600, 3)"
      ]
     },
     "execution_count": 14,
     "metadata": {},
     "output_type": "execute_result"
    }
   ],
   "source": [
    "input_arr.shape"
   ]
  },
  {
   "cell_type": "code",
   "execution_count": 86,
   "metadata": {},
   "outputs": [
    {
     "data": {
      "text/plain": [
       "['skyline (1).jpg',\n",
       " 'skyline (10).jpg',\n",
       " 'skyline (100).jpg',\n",
       " 'skyline (101).jpg',\n",
       " 'skyline (102).jpg',\n",
       " 'skyline (103).jpg',\n",
       " 'skyline (104).jpg',\n",
       " 'skyline (105).jpg',\n",
       " 'skyline (106).jpg',\n",
       " 'skyline (107).jpg',\n",
       " 'skyline (108).jpg',\n",
       " 'skyline (109).jpg',\n",
       " 'skyline (11).jpg',\n",
       " 'skyline (110).jpg',\n",
       " 'skyline (111).jpg',\n",
       " 'skyline (112).jpg',\n",
       " 'skyline (113).jpg',\n",
       " 'skyline (114).jpg',\n",
       " 'skyline (115).jpg',\n",
       " 'skyline (116).jpg',\n",
       " 'skyline (117).jpg',\n",
       " 'skyline (118).jpg',\n",
       " 'skyline (119).jpg',\n",
       " 'skyline (12).jpg',\n",
       " 'skyline (120).jpg',\n",
       " 'skyline (121).jpg',\n",
       " 'skyline (122).jpg',\n",
       " 'skyline (123).jpg',\n",
       " 'skyline (124).jpg',\n",
       " 'skyline (125).jpg',\n",
       " 'skyline (126).jpg',\n",
       " 'skyline (127).jpg',\n",
       " 'skyline (128).jpg',\n",
       " 'skyline (129).jpg',\n",
       " 'skyline (13).jpg',\n",
       " 'skyline (130).jpg',\n",
       " 'skyline (131).jpg',\n",
       " 'skyline (132).jpg',\n",
       " 'skyline (133).jpg',\n",
       " 'skyline (134).jpg',\n",
       " 'skyline (135).jpg',\n",
       " 'skyline (136).jpg',\n",
       " 'skyline (137).jpg',\n",
       " 'skyline (138).jpg',\n",
       " 'skyline (139).jpg',\n",
       " 'skyline (14).jpg',\n",
       " 'skyline (140).jpg',\n",
       " 'skyline (141).jpg',\n",
       " 'skyline (142).jpg',\n",
       " 'skyline (143).jpg',\n",
       " 'skyline (144).jpg',\n",
       " 'skyline (145).jpg',\n",
       " 'skyline (146).jpg',\n",
       " 'skyline (147).jpg',\n",
       " 'skyline (148).jpg',\n",
       " 'skyline (149).jpg',\n",
       " 'skyline (15).jpg',\n",
       " 'skyline (150).jpg',\n",
       " 'skyline (151).jpg',\n",
       " 'skyline (152).jpg',\n",
       " 'skyline (153).jpg',\n",
       " 'skyline (154).jpg',\n",
       " 'skyline (155).jpg',\n",
       " 'skyline (156).jpg',\n",
       " 'skyline (157).jpg',\n",
       " 'skyline (158).jpg',\n",
       " 'skyline (159).jpg',\n",
       " 'skyline (16).jpg',\n",
       " 'skyline (160).jpg',\n",
       " 'skyline (161).jpg',\n",
       " 'skyline (162).jpg',\n",
       " 'skyline (163).jpg',\n",
       " 'skyline (164).jpg',\n",
       " 'skyline (166).jpg',\n",
       " 'skyline (167).jpg',\n",
       " 'skyline (168).jpg',\n",
       " 'skyline (169).jpg',\n",
       " 'skyline (17).jpg',\n",
       " 'skyline (170).jpg',\n",
       " 'skyline (171).jpg',\n",
       " 'skyline (172).jpg',\n",
       " 'skyline (173).jpg',\n",
       " 'skyline (174).jpg',\n",
       " 'skyline (175).jpg',\n",
       " 'skyline (176).jpg',\n",
       " 'skyline (177).jpg',\n",
       " 'skyline (178).jpg',\n",
       " 'skyline (179).jpg',\n",
       " 'skyline (18).jpg',\n",
       " 'skyline (180).jpg',\n",
       " 'skyline (181).jpg',\n",
       " 'skyline (182).jpg',\n",
       " 'skyline (183).jpg',\n",
       " 'skyline (184).jpg',\n",
       " 'skyline (185).jpg',\n",
       " 'skyline (186).jpg',\n",
       " 'skyline (187).jpg',\n",
       " 'skyline (188).jpg',\n",
       " 'skyline (189).jpg',\n",
       " 'skyline (19).jpg',\n",
       " 'skyline (190).jpg',\n",
       " 'skyline (191).jpg',\n",
       " 'skyline (192).jpg',\n",
       " 'skyline (193).jpg',\n",
       " 'skyline (194).jpg',\n",
       " 'skyline (195).jpg',\n",
       " 'skyline (196).jpg',\n",
       " 'skyline (197).jpg',\n",
       " 'skyline (198).jpg',\n",
       " 'skyline (199).jpg',\n",
       " 'skyline (2).jpg',\n",
       " 'skyline (20).jpg',\n",
       " 'skyline (200).jpg',\n",
       " 'skyline (21).jpg',\n",
       " 'skyline (22).jpg',\n",
       " 'skyline (23).jpg',\n",
       " 'skyline (24).jpg',\n",
       " 'skyline (25).jpg',\n",
       " 'skyline (26).jpg',\n",
       " 'skyline (27).jpg',\n",
       " 'skyline (28).jpg',\n",
       " 'skyline (29).jpg',\n",
       " 'skyline (3).jpg',\n",
       " 'skyline (30).jpg',\n",
       " 'skyline (31).jpg',\n",
       " 'skyline (32).jpg',\n",
       " 'skyline (33).jpg',\n",
       " 'skyline (34).jpg',\n",
       " 'skyline (35).jpg',\n",
       " 'skyline (36).jpg',\n",
       " 'skyline (37).jpg',\n",
       " 'skyline (38).jpg',\n",
       " 'skyline (39).jpg',\n",
       " 'skyline (4).jpg',\n",
       " 'skyline (40).jpg',\n",
       " 'skyline (41).jpg',\n",
       " 'skyline (42).jpg',\n",
       " 'skyline (43).jpg',\n",
       " 'skyline (44).jpg',\n",
       " 'skyline (45).jpg',\n",
       " 'skyline (46).jpg',\n",
       " 'skyline (47).jpg',\n",
       " 'skyline (48).jpg',\n",
       " 'skyline (49).jpg',\n",
       " 'skyline (5).jpg',\n",
       " 'skyline (50).jpg',\n",
       " 'skyline (51).jpg',\n",
       " 'skyline (52).jpg',\n",
       " 'skyline (53).jpg',\n",
       " 'skyline (54).jpg',\n",
       " 'skyline (55).jpg',\n",
       " 'skyline (56).jpg',\n",
       " 'skyline (57).jpg',\n",
       " 'skyline (58).jpg',\n",
       " 'skyline (59).jpg',\n",
       " 'skyline (6).jpg',\n",
       " 'skyline (60).jpg',\n",
       " 'skyline (61).jpg',\n",
       " 'skyline (62).jpg',\n",
       " 'skyline (63).jpg',\n",
       " 'skyline (64).jpg',\n",
       " 'skyline (65).jpg',\n",
       " 'skyline (66).jpg',\n",
       " 'skyline (67).jpg',\n",
       " 'skyline (68).jpg',\n",
       " 'skyline (69).jpg',\n",
       " 'skyline (7).jpg',\n",
       " 'skyline (70).jpg',\n",
       " 'skyline (71).jpg',\n",
       " 'skyline (72).jpg',\n",
       " 'skyline (73).jpg',\n",
       " 'skyline (74).jpg',\n",
       " 'skyline (75).jpg',\n",
       " 'skyline (76).jpg',\n",
       " 'skyline (77).jpg',\n",
       " 'skyline (78).jpg',\n",
       " 'skyline (79).jpg',\n",
       " 'skyline (8).jpg',\n",
       " 'skyline (80).jpg',\n",
       " 'skyline (81).jpg',\n",
       " 'skyline (82).jpg',\n",
       " 'skyline (83).jpg',\n",
       " 'skyline (84).jpg',\n",
       " 'skyline (85).jpg',\n",
       " 'skyline (86).jpg',\n",
       " 'skyline (87).jpg',\n",
       " 'skyline (88).jpg',\n",
       " 'skyline (89).jpg',\n",
       " 'skyline (9).jpg',\n",
       " 'skyline (90).jpg',\n",
       " 'skyline (91).jpg',\n",
       " 'skyline (92).jpg',\n",
       " 'skyline (93).jpg',\n",
       " 'skyline (94).jpg',\n",
       " 'skyline (95).jpg',\n",
       " 'skyline (96).jpg',\n",
       " 'skyline (97).jpg',\n",
       " 'skyline (98).jpg',\n",
       " 'skyline (99).jpg']"
      ]
     },
     "execution_count": 86,
     "metadata": {},
     "output_type": "execute_result"
    }
   ],
   "source": [
    "img_list"
   ]
  },
  {
   "cell_type": "code",
   "execution_count": 87,
   "metadata": {},
   "outputs": [
    {
     "name": "stdout",
     "output_type": "stream",
     "text": [
      "133\n"
     ]
    }
   ],
   "source": [
    "for i, j in enumerate(img_list):\n",
    "    if j == 'skyline (4).jpg':\n",
    "        print(i)"
   ]
  },
  {
   "cell_type": "code",
   "execution_count": 97,
   "metadata": {},
   "outputs": [
    {
     "data": {
      "image/png": "[encoded data removed]",
      "text/plain": [
       "<PIL.Image.Image image mode=L size=533x400 at 0x1B66434DA90>"
      ]
     },
     "execution_count": 97,
     "metadata": {},
     "output_type": "execute_result"
    }
   ],
   "source": [
    "img = Image.open(os.path.join(orgin_path, img_list[133])).convert('L')\n",
    "input_arr = np.array(img).reshape((img.size[1], img.size[0]))\n",
    "\n",
    "Image.fromarray(input_arr)"
   ]
  },
  {
   "cell_type": "code",
   "execution_count": 81,
   "metadata": {},
   "outputs": [
    {
     "data": {
      "text/plain": [
       "(12816,\n",
       " array([[255, 255, 255, ..., 255, 255, 255],\n",
       "        [255, 255, 255, ..., 255, 255, 255],\n",
       "        [255, 255, 255, ..., 255, 255, 255],\n",
       "        ...,\n",
       "        [  0,   0,   0, ...,   0,   0,   0],\n",
       "        [  0,   0,   0, ...,   0,   0,   0],\n",
       "        [  0,   0,   0, ...,   0,   0,   0]], dtype=uint8),\n",
       " None,\n",
       " (0, 0, 300, 60))"
      ]
     },
     "execution_count": 81,
     "metadata": {},
     "output_type": "execute_result"
    }
   ],
   "source": [
    "h, w = img.shape[:2]\n",
    "mask = np.zeros((h+2, w+2), np.uint8)\n",
    "cv2.floodFill(input_arr, None, (0,0), 255)"
   ]
  },
  {
   "cell_type": "code",
   "execution_count": 98,
   "metadata": {},
   "outputs": [
    {
     "data": {
      "image/png": "[encoded data removed]",
      "text/plain": [
       "<PIL.Image.Image image mode=L size=533x400 at 0x1B668A058B0>"
      ]
     },
     "execution_count": 98,
     "metadata": {},
     "output_type": "execute_result"
    }
   ],
   "source": [
    "img.copy()"
   ]
  },
  {
   "cell_type": "code",
   "execution_count": 82,
   "metadata": {},
   "outputs": [
    {
     "data": {
      "image/png": "[encoded data removed]",
      "text/plain": [
       "<PIL.Image.Image image mode=L size=300x168 at 0x1B668A051F0>"
      ]
     },
     "execution_count": 82,
     "metadata": {},
     "output_type": "execute_result"
    }
   ],
   "source": [
    "Image.fromarray(input_arr)"
   ]
  },
  {
   "cell_type": "code",
   "execution_count": 94,
   "metadata": {},
   "outputs": [
    {
     "data": {
      "image/png": "[encoded data removed]",
      "text/plain": [
       "<PIL.Image.Image image mode=L size=533x400 at 0x1B668A10640>"
      ]
     },
     "execution_count": 94,
     "metadata": {},
     "output_type": "execute_result"
    }
   ],
   "source": [
    "import cv2\n",
    "_, img = cv2.threshold(input_arr, 127, 255, cv2.THRESH_BINARY)\n",
    "Image.fromarray(img)"
   ]
  },
  {
   "cell_type": "code",
   "execution_count": 95,
   "metadata": {},
   "outputs": [
    {
     "data": {
      "text/plain": [
       "(150891,\n",
       " array([[255, 255, 255, ...,   0,   0,   0],\n",
       "        [255, 255, 255, ...,   0,   0,   0],\n",
       "        [255, 255, 255, ...,   0,   0,   0],\n",
       "        ...,\n",
       "        [255, 255, 255, ..., 255, 255, 255],\n",
       "        [255, 255, 255, ..., 255, 255, 255],\n",
       "        [255, 255, 255, ..., 255, 255, 255]], dtype=uint8),\n",
       " None,\n",
       " (0, 0, 533, 400))"
      ]
     },
     "execution_count": 95,
     "metadata": {},
     "output_type": "execute_result"
    }
   ],
   "source": [
    "h, w = img.shape[:2]\n",
    "mask = np.zeros((h+2, w+2), np.uint8)\n",
    "cv2.floodFill(img, None, (0,0), 255)"
   ]
  },
  {
   "cell_type": "code",
   "execution_count": 96,
   "metadata": {},
   "outputs": [
    {
     "data": {
      "image/png": "[encoded data removed]",
      "text/plain": [
       "<PIL.Image.Image image mode=L size=533x400 at 0x1B668A05EE0>"
      ]
     },
     "execution_count": 96,
     "metadata": {},
     "output_type": "execute_result"
    }
   ],
   "source": [
    "Image.fromarray(img)"
   ]
  },
  {
   "cell_type": "code",
   "execution_count": 59,
   "metadata": {},
   "outputs": [
    {
     "data": {
      "image/png": "[encoded data removed]",
      "text/plain": [
       "<PIL.Image.Image image mode=L size=300x168 at 0x1B66435E1F0>"
      ]
     },
     "execution_count": 59,
     "metadata": {},
     "output_type": "execute_result"
    }
   ],
   "source": [
    "clear = np.where(input_arr > 0 , 255, input_arr)\n",
    "Image.fromarray(clear)"
   ]
  },
  {
   "cell_type": "code",
   "execution_count": 65,
   "metadata": {},
   "outputs": [],
   "source": [
    "def clear_img(img_arr, threshold):\n",
    "    clear = np.where(img_arr < threshold, 0, img_arr)\n",
    "    clear = np.where(clear > 0, 255, clear)\n",
    "\n",
    "    return clear"
   ]
  },
  {
   "cell_type": "code",
   "execution_count": 74,
   "metadata": {},
   "outputs": [],
   "source": [
    "clear = clear_img(input_arr, 100)"
   ]
  },
  {
   "cell_type": "code",
   "execution_count": 75,
   "metadata": {},
   "outputs": [
    {
     "data": {
      "image/png": "[encoded data removed]",
      "text/plain": [
       "<PIL.Image.Image image mode=L size=300x168 at 0x1B668A05B20>"
      ]
     },
     "execution_count": 75,
     "metadata": {},
     "output_type": "execute_result"
    }
   ],
   "source": [
    "Image.fromarray(clear)"
   ]
  },
  {
   "cell_type": "code",
   "execution_count": 66,
   "metadata": {},
   "outputs": [
    {
     "data": {
      "image/png": "[encoded data removed]",
      "text/plain": [
       "<PIL.Image.Image image mode=L size=300x168 at 0x1B66435EAF0>"
      ]
     },
     "execution_count": 66,
     "metadata": {},
     "output_type": "execute_result"
    }
   ],
   "source": [
    "Image.fromarray(clear_img(input_arr, 100))"
   ]
  },
  {
   "cell_type": "code",
   "execution_count": 22,
   "metadata": {},
   "outputs": [
    {
     "data": {
      "text/plain": [
       "array([  0,   0,   0,   0,   0,   0,   0,   0,   0,   0,   0,   0,   0,\n",
       "         0,   0,   0,   0,   0,   0,   0,   0,   0,   0,   0,   1,   0,\n",
       "         2, 203, 203,   2,   0,   1,   0,   0,   0,   0,   0,   0,   0,\n",
       "         0,   0,   0,   0,   0,   0,   0,   0,   0,   0,   0,   0,   0,\n",
       "         0,   0,   0,   0,   0,   0,   0,   0,   0,   0,   0,   0,   0,\n",
       "         0,   0,   0,   0,   0,   0,   0,   0,   0,   0,   0,   0,   0,\n",
       "         0,   0,   0,   0,   0,   0,   0,   0,   0,   0,   0,   0,   0,\n",
       "         0,   0,   0,   0,   0,   0,   0,   0,   0,   0,   0,   0,   0,\n",
       "         4,   1,   0,   0,   0,   0,   0,   0,   0,   0,   9,   0,   0,\n",
       "         5,  28,   0,   0,   0,   0, 185, 243, 108,   0,   1,   0,  19,\n",
       "         0,  16,   1,   0,   0,   0,   0,   0,   0,   0,   0,   0,   0,\n",
       "         0,   0,   0,   0,   0,   0,   0,   0,   0,   0,   0,   0,   0,\n",
       "         0,   0,   0,   0,   0,   0,   0,   0,   0,   0,   0,   0,   0,\n",
       "         0,   0,   0,   0,   0,   0,   0,   0,   0,   0,   0,   0,   0,\n",
       "         0,   0,   0,   0,   0,   0,   0,   0,   0,   0,   0,   0,   0,\n",
       "         0,   0,   0,   0,   0,   0,   0,   0,   0,   0,   0,   0,   0,\n",
       "         0,   0,   0,   0,   0,   0,   0,   0,   0,   0,   0,   0,   0,\n",
       "         0,   0,   0,   0,   0,   0,   0,   0,   0,   0,   0,   0,   0,\n",
       "         0,   0,   0,   0,   0,   0,   0,   0,   0,   0,   0,   0,   0,\n",
       "         0,   0,   0,   0,   0,   0,   0,   0,   0,   0,   0,   0,   0,\n",
       "         0,   0,   0,   0,   0,   0,   0,   0,   0,   0,   0,   0,   0,\n",
       "         0,   0,   0,   0,   0,   0,   0,   0,   0,   0,   0,   0,   0,\n",
       "         0,   0,   0,   0,   0,   0,   0,   0,   0,   0,   0,   0,   0,\n",
       "         0,   0,   0,   0,   0,   0,   0,   0,   0,   0,   0,   0,   0,\n",
       "         0,   0,   0,   0,   0,   0,   0,   0,   0,   0,   0,   0,   0,\n",
       "         0,   0,   0,   0,   0,   0,   0,   0,   0,   0,   0,   0,   0,\n",
       "         0,   0,   0,   0,   0,   0,   0,   0,   0,   0,   0,   0,   0,\n",
       "         0,   0,   0,   2,   0,   0,  16,   0,   0,  15,   0,  15,   0,\n",
       "         0,   6,  19, 116, 209, 196, 179, 167, 162, 159, 155, 152, 165,\n",
       "       165, 165, 165, 165, 165, 165, 165, 166, 160, 162, 172, 171, 167,\n",
       "       177, 195,  67,   5,   0,   0,  10,   3,   0,   0,   2,   9,   8,\n",
       "         0,   0,   5,   1,   0,   0,   0,   0,   0,   0,   0,   0,   0,\n",
       "         0,   0,   0,   0,   0,   0,   0,   0,   0,   0,   0,   0,   0,\n",
       "         0,   0,   0,   0,   0,   0,   0,   0,   0,   0,   0,   0,   0,\n",
       "         0,   0,   0,   0,   0,   0,   0,   0,   0,   0,   0,   0,   0,\n",
       "         0,   0,   0,   0,   0,   0,   0,   0,   0,   0,   0,   0,   0,\n",
       "         0,   0,   0,   0,   0,   0,   0,   0,   0,   0,   0,   0,   0,\n",
       "         0,   0,   0,   0,   0,   0,   0,   0,   0,   0,   0,   0,   0,\n",
       "         0,   0,   0,   0,   0,   0,   0,   0,   0,   0,   0,  19,  12,\n",
       "        52, 254, 185,   0,   0,   7,   0,   0,   4,   8,  10,   7,   0,\n",
       "         0,   0,   0,   9,   0,   0,   2,   7,   0,   0,   0,   0,   0,\n",
       "         0,   0,   0,   0,   0,   0,   0,   0,   0,   0,   0,   0,   0,\n",
       "         0,   0,   0,   0,   0,   0,   0,   0,   0,   0,   0,   0,   0,\n",
       "         0,   0,   0,   0,   0,   0,   0,   0,   0,   0,   0,   0,   0,\n",
       "         0,   0,   0,   0,   0,   0,   0,   0,   0,   0,   0,   0,   0,\n",
       "         0,   0,   0,   0,   0,   0,   0,   0,   0,   0,   0,   0,   0,\n",
       "         0,   0], dtype=uint8)"
      ]
     },
     "execution_count": 22,
     "metadata": {},
     "output_type": "execute_result"
    }
   ],
   "source": [
    "input_arr[100]"
   ]
  },
  {
   "cell_type": "code",
   "execution_count": 76,
   "metadata": {},
   "outputs": [
    {
     "data": {
      "image/png": "[encoded data removed]",
      "text/plain": [
       "<PIL.Image.Image image mode=L size=300x168 at 0x1B668A05610>"
      ]
     },
     "execution_count": 76,
     "metadata": {},
     "output_type": "execute_result"
    }
   ],
   "source": [
    "for col in range(clear.shape[1]): \n",
    "    for row in range(clear.shape[0]-1, -1, -1):\n",
    "        \n",
    "        if 100 < clear[row][col]:\n",
    "            break\n",
    "            \n",
    "        else :\n",
    "            clear[row][col] = 255\n",
    "                \n",
    "Image.fromarray(clear)"
   ]
  },
  {
   "cell_type": "code",
   "execution_count": 90,
   "metadata": {},
   "outputs": [
    {
     "data": {
      "image/png": "[encoded data removed]",
      "text/plain": [
       "<PIL.Image.Image image mode=L size=533x400 at 0x1B668A10BB0>"
      ]
     },
     "execution_count": 90,
     "metadata": {},
     "output_type": "execute_result"
    }
   ],
   "source": [
    "for col in range(img.shape[1]): \n",
    "    for row in range(img.shape[0]-1, -1, -1):\n",
    "        \n",
    "        if 100 < img[row][col]:\n",
    "            break\n",
    "            \n",
    "        else :\n",
    "            img[row][col] = 255\n",
    "                \n",
    "Image.fromarray(img)"
   ]
  },
  {
   "cell_type": "code",
   "execution_count": 60,
   "metadata": {},
   "outputs": [
    {
     "data": {
      "image/png": "[encoded data removed]",
      "text/plain": [
       "<PIL.Image.Image image mode=L size=640x480 at 0x1B66435EBB0>"
      ]
     },
     "execution_count": 60,
     "metadata": {},
     "output_type": "execute_result"
    }
   ],
   "source": [
    "from PIL import Image\n",
    "\n",
    "img = Image.open(os.path.join(orgin_path, img_list[100])).convert('L')\n",
    "input_arr = np.array(img).reshape((img.size[1], img.size[0]))\n",
    "\n",
    "for col in range(input_arr.shape[1]): \n",
    "    for row in range(input_arr.shape[0]-1, -1, -1):\n",
    "        \n",
    "        if 100 < input_arr[row][col]:\n",
    "            break\n",
    "            \n",
    "        else :\n",
    "            input_arr[row][col] = 255\n",
    "                \n",
    "Image.fromarray(input_arr)"
   ]
  },
  {
   "cell_type": "code",
   "execution_count": 23,
   "metadata": {},
   "outputs": [
    {
     "data": {
      "image/png": "[encoded data removed]",
      "text/plain": [
       "<PIL.Image.Image image mode=L size=600x400 at 0x1B6642ED580>"
      ]
     },
     "execution_count": 23,
     "metadata": {},
     "output_type": "execute_result"
    }
   ],
   "source": [
    "from PIL import Image\n",
    "\n",
    "img = Image.open(os.path.join(orgin_path, img_list[0])).convert('L')\n",
    "input_arr = np.array(img).reshape((img.size[1], img.size[0]))\n",
    "for col in range(input_arr.shape[1]):\n",
    "    \n",
    "    white_check = False\n",
    "    \n",
    "    for row in range(input_arr.shape[0]):\n",
    "        \n",
    "        if 0 < input_arr[row][col]:\n",
    "            if not white_check:\n",
    "                white_check = True\n",
    "        else :\n",
    "            if white_check:\n",
    "                input_arr[row][col] = 255\n",
    "                \n",
    "Image.fromarray(input_arr)"
   ]
  },
  {
   "cell_type": "code",
   "execution_count": 57,
   "metadata": {},
   "outputs": [
    {
     "name": "stdout",
     "output_type": "stream",
     "text": [
      "Wall time: 36.1 s\n"
     ]
    }
   ],
   "source": [
    "%%time\n",
    "\n",
    "from PIL import Image\n",
    "\n",
    "for f in img_list:\n",
    "    img = Image.open(os.path.join(orgin_path, f)).convert('L')\n",
    "    input_arr = np.array(img).reshape((img.size[1], img.size[0]))\n",
    "    for col in range(input_arr.shape[1]): \n",
    "        for row in range(input_arr.shape[0]-1, -1, -1):\n",
    "        \n",
    "            if 40 < input_arr[row][col]:\n",
    "                break\n",
    "            \n",
    "            else :\n",
    "                input_arr[row][col] = 255\n",
    "                \n",
    "    \n",
    "    invert_img = Image.fromarray(input_arr)\n",
    "\n",
    "    save_path = os.path.join(seg_path, f)\n",
    "    invert_img.save(save_path)"
   ]
  },
  {
   "cell_type": "code",
   "execution_count": null,
   "metadata": {},
   "outputs": [],
   "source": [
    "img = Image.open(os.path.join(orgin_path, f)).convert('L')"
   ]
  },
  {
   "cell_type": "code",
   "execution_count": 106,
   "metadata": {},
   "outputs": [
    {
     "name": "stdout",
     "output_type": "stream",
     "text": [
      "Wall time: 475 ms\n"
     ]
    }
   ],
   "source": [
    "%%time\n",
    "import cv2\n",
    "\n",
    "from PIL import Image\n",
    "\n",
    "for f in img_list:\n",
    "    img = Image.open(os.path.join(orgin_path, f)).convert('L')\n",
    "    copy_img = img.copy()\n",
    "    input_arr = np.array(copy_img).reshape((img.size[1], img.size[0]))\n",
    "    \n",
    "    _, input_arr = cv2.threshold(input_arr, 127, 255, cv2.THRESH_BINARY)\n",
    "    cv2.floodFill(input_arr, None, (0,img.size[1]-1), 255)       \n",
    "    \n",
    "    invert_img = Image.fromarray(input_arr)\n",
    "\n",
    "    save_path = os.path.join(seg_path, f)\n",
    "    invert_img.save(save_path)"
   ]
  },
  {
   "cell_type": "code",
   "execution_count": 107,
   "metadata": {},
   "outputs": [
    {
     "data": {
      "image/png": "[encoded data removed]",
      "text/plain": [
       "<PIL.Image.Image image mode=L size=335x150 at 0x1B668A2B2B0>"
      ]
     },
     "execution_count": 107,
     "metadata": {},
     "output_type": "execute_result"
    }
   ],
   "source": [
    "Image.fromarray(input_arr)"
   ]
  },
  {
   "cell_type": "code",
   "execution_count": 104,
   "metadata": {},
   "outputs": [
    {
     "data": {
      "text/plain": [
       "['skyline (1).jpg',\n",
       " 'skyline (10).jpg',\n",
       " 'skyline (100).jpg',\n",
       " 'skyline (101).jpg',\n",
       " 'skyline (102).jpg',\n",
       " 'skyline (103).jpg',\n",
       " 'skyline (104).jpg',\n",
       " 'skyline (105).jpg',\n",
       " 'skyline (106).jpg',\n",
       " 'skyline (107).jpg',\n",
       " 'skyline (108).jpg',\n",
       " 'skyline (109).jpg',\n",
       " 'skyline (11).jpg',\n",
       " 'skyline (110).jpg',\n",
       " 'skyline (111).jpg',\n",
       " 'skyline (112).jpg',\n",
       " 'skyline (113).jpg',\n",
       " 'skyline (114).jpg',\n",
       " 'skyline (115).jpg',\n",
       " 'skyline (116).jpg',\n",
       " 'skyline (117).jpg',\n",
       " 'skyline (118).jpg',\n",
       " 'skyline (119).jpg',\n",
       " 'skyline (12).jpg',\n",
       " 'skyline (120).jpg',\n",
       " 'skyline (121).jpg',\n",
       " 'skyline (122).jpg',\n",
       " 'skyline (123).jpg',\n",
       " 'skyline (124).jpg',\n",
       " 'skyline (125).jpg',\n",
       " 'skyline (126).jpg',\n",
       " 'skyline (127).jpg',\n",
       " 'skyline (128).jpg',\n",
       " 'skyline (129).jpg',\n",
       " 'skyline (13).jpg',\n",
       " 'skyline (130).jpg',\n",
       " 'skyline (131).jpg',\n",
       " 'skyline (132).jpg',\n",
       " 'skyline (133).jpg',\n",
       " 'skyline (134).jpg',\n",
       " 'skyline (135).jpg',\n",
       " 'skyline (136).jpg',\n",
       " 'skyline (137).jpg',\n",
       " 'skyline (138).jpg',\n",
       " 'skyline (139).jpg',\n",
       " 'skyline (14).jpg',\n",
       " 'skyline (140).jpg',\n",
       " 'skyline (141).jpg',\n",
       " 'skyline (142).jpg',\n",
       " 'skyline (143).jpg',\n",
       " 'skyline (144).jpg',\n",
       " 'skyline (145).jpg',\n",
       " 'skyline (146).jpg',\n",
       " 'skyline (147).jpg',\n",
       " 'skyline (148).jpg',\n",
       " 'skyline (149).jpg',\n",
       " 'skyline (15).jpg',\n",
       " 'skyline (150).jpg',\n",
       " 'skyline (151).jpg',\n",
       " 'skyline (152).jpg',\n",
       " 'skyline (153).jpg',\n",
       " 'skyline (154).jpg',\n",
       " 'skyline (155).jpg',\n",
       " 'skyline (156).jpg',\n",
       " 'skyline (157).jpg',\n",
       " 'skyline (158).jpg',\n",
       " 'skyline (159).jpg',\n",
       " 'skyline (16).jpg',\n",
       " 'skyline (160).jpg',\n",
       " 'skyline (161).jpg',\n",
       " 'skyline (162).jpg',\n",
       " 'skyline (163).jpg',\n",
       " 'skyline (164).jpg',\n",
       " 'skyline (166).jpg',\n",
       " 'skyline (167).jpg',\n",
       " 'skyline (168).jpg',\n",
       " 'skyline (169).jpg',\n",
       " 'skyline (17).jpg',\n",
       " 'skyline (170).jpg',\n",
       " 'skyline (171).jpg',\n",
       " 'skyline (172).jpg',\n",
       " 'skyline (173).jpg',\n",
       " 'skyline (174).jpg',\n",
       " 'skyline (175).jpg',\n",
       " 'skyline (176).jpg',\n",
       " 'skyline (177).jpg',\n",
       " 'skyline (178).jpg',\n",
       " 'skyline (179).jpg',\n",
       " 'skyline (18).jpg',\n",
       " 'skyline (180).jpg',\n",
       " 'skyline (181).jpg',\n",
       " 'skyline (182).jpg',\n",
       " 'skyline (183).jpg',\n",
       " 'skyline (184).jpg',\n",
       " 'skyline (185).jpg',\n",
       " 'skyline (186).jpg',\n",
       " 'skyline (187).jpg',\n",
       " 'skyline (188).jpg',\n",
       " 'skyline (189).jpg',\n",
       " 'skyline (19).jpg',\n",
       " 'skyline (190).jpg',\n",
       " 'skyline (191).jpg',\n",
       " 'skyline (192).jpg',\n",
       " 'skyline (193).jpg',\n",
       " 'skyline (194).jpg',\n",
       " 'skyline (195).jpg',\n",
       " 'skyline (196).jpg',\n",
       " 'skyline (197).jpg',\n",
       " 'skyline (198).jpg',\n",
       " 'skyline (199).jpg',\n",
       " 'skyline (2).jpg',\n",
       " 'skyline (20).jpg',\n",
       " 'skyline (200).jpg',\n",
       " 'skyline (21).jpg',\n",
       " 'skyline (22).jpg',\n",
       " 'skyline (23).jpg',\n",
       " 'skyline (24).jpg',\n",
       " 'skyline (25).jpg',\n",
       " 'skyline (26).jpg',\n",
       " 'skyline (27).jpg',\n",
       " 'skyline (28).jpg',\n",
       " 'skyline (29).jpg',\n",
       " 'skyline (3).jpg',\n",
       " 'skyline (30).jpg',\n",
       " 'skyline (31).jpg',\n",
       " 'skyline (32).jpg',\n",
       " 'skyline (33).jpg',\n",
       " 'skyline (34).jpg',\n",
       " 'skyline (35).jpg',\n",
       " 'skyline (36).jpg',\n",
       " 'skyline (37).jpg',\n",
       " 'skyline (38).jpg',\n",
       " 'skyline (39).jpg',\n",
       " 'skyline (4).jpg',\n",
       " 'skyline (40).jpg',\n",
       " 'skyline (41).jpg',\n",
       " 'skyline (42).jpg',\n",
       " 'skyline (43).jpg',\n",
       " 'skyline (44).jpg',\n",
       " 'skyline (45).jpg',\n",
       " 'skyline (46).jpg',\n",
       " 'skyline (47).jpg',\n",
       " 'skyline (48).jpg',\n",
       " 'skyline (49).jpg',\n",
       " 'skyline (5).jpg',\n",
       " 'skyline (50).jpg',\n",
       " 'skyline (51).jpg',\n",
       " 'skyline (52).jpg',\n",
       " 'skyline (53).jpg',\n",
       " 'skyline (54).jpg',\n",
       " 'skyline (55).jpg',\n",
       " 'skyline (56).jpg',\n",
       " 'skyline (57).jpg',\n",
       " 'skyline (58).jpg',\n",
       " 'skyline (59).jpg',\n",
       " 'skyline (6).jpg',\n",
       " 'skyline (60).jpg',\n",
       " 'skyline (61).jpg',\n",
       " 'skyline (62).jpg',\n",
       " 'skyline (63).jpg',\n",
       " 'skyline (64).jpg',\n",
       " 'skyline (65).jpg',\n",
       " 'skyline (66).jpg',\n",
       " 'skyline (67).jpg',\n",
       " 'skyline (68).jpg',\n",
       " 'skyline (69).jpg',\n",
       " 'skyline (7).jpg',\n",
       " 'skyline (70).jpg',\n",
       " 'skyline (71).jpg',\n",
       " 'skyline (72).jpg',\n",
       " 'skyline (73).jpg',\n",
       " 'skyline (74).jpg',\n",
       " 'skyline (75).jpg',\n",
       " 'skyline (76).jpg',\n",
       " 'skyline (77).jpg',\n",
       " 'skyline (78).jpg',\n",
       " 'skyline (79).jpg',\n",
       " 'skyline (8).jpg',\n",
       " 'skyline (80).jpg',\n",
       " 'skyline (81).jpg',\n",
       " 'skyline (82).jpg',\n",
       " 'skyline (83).jpg',\n",
       " 'skyline (84).jpg',\n",
       " 'skyline (85).jpg',\n",
       " 'skyline (86).jpg',\n",
       " 'skyline (87).jpg',\n",
       " 'skyline (88).jpg',\n",
       " 'skyline (89).jpg',\n",
       " 'skyline (9).jpg',\n",
       " 'skyline (90).jpg',\n",
       " 'skyline (91).jpg',\n",
       " 'skyline (92).jpg',\n",
       " 'skyline (93).jpg',\n",
       " 'skyline (94).jpg',\n",
       " 'skyline (95).jpg',\n",
       " 'skyline (96).jpg',\n",
       " 'skyline (97).jpg',\n",
       " 'skyline (98).jpg',\n",
       " 'skyline (99).jpg']"
      ]
     },
     "execution_count": 104,
     "metadata": {},
     "output_type": "execute_result"
    }
   ],
   "source": [
    "img_list"
   ]
  },
  {
   "cell_type": "code",
   "execution_count": null,
   "metadata": {},
   "outputs": [],
   "source": []
  }
 ],
 "metadata": {
  "kernelspec": {
   "display_name": "tensorflow2.x",
   "language": "python",
   "name": "tensorflow2.x"
  },
  "language_info": {
   "codemirror_mode": {
    "name": "ipython",
    "version": 3
   },
   "file_extension": ".py",
   "mimetype": "text/x-python",
   "name": "python",
   "nbconvert_exporter": "python",
   "pygments_lexer": "ipython3",
   "version": "3.8.3"
  }
 },
 "nbformat": 4,
 "nbformat_minor": 4
}
