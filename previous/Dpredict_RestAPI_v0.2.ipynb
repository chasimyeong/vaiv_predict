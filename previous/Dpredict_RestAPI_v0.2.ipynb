{
 "cells": [
  {
   "cell_type": "markdown",
   "metadata": {},
   "source": [
    "# Check Library Version"
   ]
  },
  {
   "cell_type": "code",
   "execution_count": 2,
   "metadata": {},
   "outputs": [
    {
     "data": {
      "text/plain": [
       "'C:\\\\Users\\\\daumsoft\\\\AppData\\\\Roaming\\\\Python\\\\Python38\\\\site-packages\\\\tensorflow'"
      ]
     },
     "execution_count": 2,
     "metadata": {},
     "output_type": "execute_result"
    }
   ],
   "source": [
    "import os\n",
    "import importlib\n",
    "\n",
    "os.path.dirname(importlib.import_module('tensorflow').__file__)"
   ]
  },
  {
   "cell_type": "code",
   "execution_count": 1,
   "metadata": {},
   "outputs": [
    {
     "name": "stdout",
     "output_type": "stream",
     "text": [
      "python : 3.8.3 (default, Jul  2 2020, 17:30:36) [MSC v.1916 64 bit (AMD64)]\n",
      "\n",
      "numpy : 1.18.5\n",
      "\n",
      "opencv : 4.3.0\n",
      "\n",
      "keras : 2.4.3\n",
      "tf : 2.2.0\n"
     ]
    }
   ],
   "source": [
    "import warnings\n",
    "import os\n",
    "import sys\n",
    "\n",
    "import numpy as np\n",
    "\n",
    "import cv2\n",
    "\n",
    "import keras\n",
    "import tensorflow as tf\n",
    "\n",
    "warnings.filterwarnings('ignore')\n",
    "\n",
    "print('python :', sys.version)\n",
    "print('')\n",
    "\n",
    "print('numpy :', np.__version__)\n",
    "print('')\n",
    "\n",
    "print('opencv :', cv2.__version__)\n",
    "print('')\n",
    "\n",
    "print('keras :', keras.__version__)\n",
    "print('tf :', tf.__version__)"
   ]
  },
  {
   "cell_type": "code",
   "execution_count": 2,
   "metadata": {},
   "outputs": [
    {
     "data": {
      "text/plain": [
       "[name: \"/device:CPU:0\"\n",
       " device_type: \"CPU\"\n",
       " memory_limit: 268435456\n",
       " locality {\n",
       " }\n",
       " incarnation: 3712296782942185407,\n",
       " name: \"/device:XLA_CPU:0\"\n",
       " device_type: \"XLA_CPU\"\n",
       " memory_limit: 17179869184\n",
       " locality {\n",
       " }\n",
       " incarnation: 5049554851144255483\n",
       " physical_device_desc: \"device: XLA_CPU device\",\n",
       " name: \"/device:GPU:0\"\n",
       " device_type: \"GPU\"\n",
       " memory_limit: 3133590732\n",
       " locality {\n",
       "   bus_id: 1\n",
       "   links {\n",
       "   }\n",
       " }\n",
       " incarnation: 2594946062144359327\n",
       " physical_device_desc: \"device: 0, name: GeForce GTX 1050 Ti, pci bus id: 0000:01:00.0, compute capability: 6.1\",\n",
       " name: \"/device:XLA_GPU:0\"\n",
       " device_type: \"XLA_GPU\"\n",
       " memory_limit: 17179869184\n",
       " locality {\n",
       " }\n",
       " incarnation: 14226523398464623026\n",
       " physical_device_desc: \"device: XLA_GPU device\"]"
      ]
     },
     "execution_count": 2,
     "metadata": {},
     "output_type": "execute_result"
    }
   ],
   "source": [
    "from tensorflow.python.client import device_lib\n",
    "device_lib.list_local_devices()"
   ]
  },
  {
   "cell_type": "markdown",
   "metadata": {},
   "source": [
    "# Load Model"
   ]
  },
  {
   "cell_type": "code",
   "execution_count": 3,
   "metadata": {},
   "outputs": [],
   "source": [
    "# from keras.models import model_from_json\n",
    "# from keras.optimizers import Adam\n",
    "# import keras.backend as K\n",
    "\n",
    "# class DTNNmodels:\n",
    "    \n",
    "#     def __init__(self):\n",
    "#         #초기 모델 및 가중치 경로 설정\n",
    "#         self.ROOT_DIR = os.path.abspath('./')\n",
    "#         self.models_path = os.path.join(self.ROOT_DIR, 'models')\n",
    "#         self.weights_path = os.path.join(self.models_path, 'weights')\n",
    "\n",
    "#         self.unet_model_file = os.path.join(self.models_path, 'unet1_model.json')\n",
    "        \n",
    "#         self.unet_weight_skyline_file = os.path.join(self.weights_path, 'skyline_detection_1channel.hdf5')\n",
    "#         self.unet_weight_shielding_file = os.path.join(self.weights_path, 'view_shielding_rate_1channel.hdf5')\n",
    "        \n",
    "#     def load_models(self):\n",
    "#         #model load\n",
    "#         K.clear_session()\n",
    "#         self.sky_unet = self.__unet_model(self.unet_model_file, self.unet_weight_skyline_file)\n",
    "#         self.shield_unet = self.__unet_model(self.unet_model_file, self.unet_weight_shielding_file)\n",
    "        \n",
    "#         return self.sky_unet, self.shield_unet\n",
    "\n",
    "#     def __unet_model(self, model_file, weight_file):\n",
    "#         #unet model\n",
    "#         K.set_image_data_format('channels_last')\n",
    "#         K.set_floatx('float64')\n",
    "\n",
    "#         json_file = open(model_file, \"r\")\n",
    "#         loaded_model_json = json_file.read() \n",
    "#         json_file.close()\n",
    "\n",
    "#         unet = model_from_json(loaded_model_json)\n",
    "#         unet.load_weights(weight_file)\n",
    "\n",
    "#         unet.compile(optimizer=Adam(lr=1e-4), loss='binary_crossentropy', metrics = ['mse', 'mae'])    \n",
    "#         return unet\n",
    "    \n",
    "#     def predict(self, file_img, model, threshold = 20):\n",
    "        \n",
    "#         input_img, img_arr = self.__preprocessing_img(file_img)\n",
    "        \n",
    "#         predictions = model.predict(img_arr)\n",
    "#         prediction = np.array(np.round(predictions[0] * 255, 0), dtype = 'int')\n",
    "        \n",
    "#         clear_pred = self.__clear_img(prediction, threshold)\n",
    "#         ridge = self.__y_ridge(clear_pred)\n",
    "        \n",
    "#         resize_img = np.array(input_img.resize((256,256)), np.uint8)\n",
    "#         output_img = self.__draw_skyline(resize_img, ridge)\n",
    "#         rate = self.__shielding_rate(resize_img, ridge)\n",
    "        \n",
    "#         return output_img, rate\n",
    "        \n",
    "#     def __preprocessing_img(self, file_img):\n",
    "#         img = Image.open(file_img)\n",
    "#         one_ch_img = img.convert('L')\n",
    "#         input_arr = np.array(one_ch_img.resize((256, 256)))/255\n",
    "#         input_arr = input_arr.reshape((1, ) + input_arr.shape)\n",
    "        \n",
    "#         return img, input_arr\n",
    "        \n",
    "#     def __clear_img(self, img_arr, threshold):\n",
    "#         clear = np.where(img_arr < threshold, 0, img_arr)\n",
    "#         clear = np.where(clear > 0, 255, clear)\n",
    "    \n",
    "#         return clear\n",
    "\n",
    "#     def __y_ridge(self, img_arr):\n",
    "#         cols = img_arr.shape[1]\n",
    "#         rows = img_arr.shape[0]\n",
    "\n",
    "#         ridge = []\n",
    "\n",
    "#         for c in range(cols):\n",
    "#             for r in range(rows):\n",
    "#                 row = img_arr[r][c]\n",
    "#                 if row > 0:\n",
    "#                     ridge.append([c, r])\n",
    "#                     break\n",
    "\n",
    "#         ridge.append([cols+1, rows+1])\n",
    "#         ridge.append([0, rows+1])            \n",
    "#         ridge_array = np.array(ridge)\n",
    "\n",
    "#         return ridge_array\n",
    "\n",
    "#     def __draw_skyline(self, img, ridge):\n",
    "\n",
    "#         ridge = ridge.astype(np.int32)\n",
    "\n",
    "#         polyline_img = cv2.polylines(img, [ridge], False, (255, 0, 0))\n",
    "\n",
    "#         return polyline_img\n",
    "    \n",
    "#     def __shielding_rate(self, img, contour):\n",
    "#         x = img.shape[1]\n",
    "#         y = img.shape[0]\n",
    "\n",
    "#         contour_area = cv2.contourArea(contour)\n",
    "#         shield_rate = round((contour_area/(x*y)) * 100, 4)\n",
    "\n",
    "#         return shield_rate"
   ]
  },
  {
   "cell_type": "code",
   "execution_count": 4,
   "metadata": {},
   "outputs": [
    {
     "ename": "NameError",
     "evalue": "name '__file__' is not defined",
     "output_type": "error",
     "traceback": [
      "\u001b[1;31m---------------------------------------------------------------------------\u001b[0m",
      "\u001b[1;31mNameError\u001b[0m                                 Traceback (most recent call last)",
      "\u001b[1;32m<ipython-input-4-cac2abb373bd>\u001b[0m in \u001b[0;36m<module>\u001b[1;34m\u001b[0m\n\u001b[1;32m----> 1\u001b[1;33m \u001b[0mos\u001b[0m\u001b[1;33m.\u001b[0m\u001b[0mchdir\u001b[0m\u001b[1;33m(\u001b[0m\u001b[0mos\u001b[0m\u001b[1;33m.\u001b[0m\u001b[0mpath\u001b[0m\u001b[1;33m.\u001b[0m\u001b[0mdirname\u001b[0m\u001b[1;33m(\u001b[0m\u001b[0m__file__\u001b[0m\u001b[1;33m)\u001b[0m\u001b[1;33m)\u001b[0m\u001b[1;33m\u001b[0m\u001b[1;33m\u001b[0m\u001b[0m\n\u001b[0m",
      "\u001b[1;31mNameError\u001b[0m: name '__file__' is not defined"
     ]
    }
   ],
   "source": [
    "os.chdir(os.path.dirname(__file__))"
   ]
  },
  {
   "cell_type": "code",
   "execution_count": 5,
   "metadata": {},
   "outputs": [],
   "source": [
    "from dtnn.dtnn_model import DTNNmodels"
   ]
  },
  {
   "cell_type": "code",
   "execution_count": 6,
   "metadata": {},
   "outputs": [],
   "source": [
    "from keras.models import model_from_json\n",
    "from keras.optimizers import Adam\n",
    "import keras.backend as K\n",
    "\n",
    "from flask import Flask, request, jsonify\n",
    "from PIL import Image, ImageDraw\n",
    "import json\n",
    "import base64\n",
    "from io import BytesIO\n",
    "\n",
    "app = Flask (__name__)\n",
    "\n",
    "@app.route('/Dpredict', methods = ['POST'])\n",
    "def predict():\n",
    "    if request.method == 'POST':\n",
    "        \n",
    "        data = request.form\n",
    "        img = request.files['image']\n",
    "        form = data['format']\n",
    "        command = data['command']\n",
    "        \n",
    "        if command == 'skyline_detection':\n",
    "            \n",
    "            output_img, _ = dtnn.predict(img, sky_model)\n",
    "            \n",
    "            result = {}\n",
    "            \n",
    "        elif command == 'view_shielding_rate':\n",
    "            \n",
    "            output_img, rate = dtnn.predict(img, shield_model)\n",
    "        \n",
    "            result = {'shielding_rate' : rate}\n",
    "            \n",
    "        if form == 'total_array':\n",
    "            output = output_img.tolist()\n",
    "            result['output_img'] = output\n",
    "        elif form == 'total_base64':\n",
    "            rawBytes = BytesIO()\n",
    "            img_buffer = Image.fromarray(output_img.astype('uint8'))\n",
    "            img_buffer.save(rawBytes, 'PNG')\n",
    "            rawBytes.seek(0)\n",
    "            base64_img = base64.b64encode(rawBytes.read())\n",
    "            output = str(base64_img)\n",
    "            result['output_img'] = output\n",
    "        else :\n",
    "            print('format을 입력해주세요. 현재 지원 format parameter는 total_array, total_base64입니다.')\n",
    "            \n",
    "#        img_result는 output image를 원래의 사이즈로 다시 키우는 것, 화질이 너무 깨져서 다른 방법 생각해야함        \n",
    "#        img_result = cv2.resize(output_img, dsize = (input_img.size[0], input_img.size[1]), interpolation=cv2.INTER_CUBIC)\n",
    "    return jsonify({'command' : command, 'result' : result})"
   ]
  },
  {
   "cell_type": "code",
   "execution_count": 7,
   "metadata": {},
   "outputs": [
    {
     "name": "stdout",
     "output_type": "stream",
     "text": [
      " * Serving Flask app \"__main__\" (lazy loading)\n",
      " * Environment: production\n",
      "   WARNING: This is a development server. Do not use it in a production deployment.\n",
      "   Use a production WSGI server instead.\n",
      " * Debug mode: off\n"
     ]
    },
    {
     "name": "stderr",
     "output_type": "stream",
     "text": [
      " * Running on http://127.0.0.1:5000/ (Press CTRL+C to quit)\n",
      "127.0.0.1 - - [05/Aug/2020 18:58:08] \"\u001b[37mPOST /Dpredict HTTP/1.1\u001b[0m\" 200 -\n"
     ]
    }
   ],
   "source": [
    "if __name__ == \"__main__\":\n",
    "    dtnn = DTNNmodels()\n",
    "    sky_model, shield_model = dtnn.load_models()\n",
    "    app.run()"
   ]
  },
  {
   "cell_type": "code",
   "execution_count": null,
   "metadata": {},
   "outputs": [],
   "source": []
  }
 ],
 "metadata": {
  "kernelspec": {
   "display_name": "tensorflow2.x",
   "language": "python",
   "name": "tensorflow2.x"
  },
  "language_info": {
   "codemirror_mode": {
    "name": "ipython",
    "version": 3
   },
   "file_extension": ".py",
   "mimetype": "text/x-python",
   "name": "python",
   "nbconvert_exporter": "python",
   "pygments_lexer": "ipython3",
   "version": "3.8.3"
  }
 },
 "nbformat": 4,
 "nbformat_minor": 4
}
